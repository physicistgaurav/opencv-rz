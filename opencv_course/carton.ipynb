{
 "cells": [
  {
   "cell_type": "code",
   "execution_count": 1,
   "id": "92123835",
   "metadata": {},
   "outputs": [],
   "source": [
    "import cv2"
   ]
  },
  {
   "cell_type": "code",
   "execution_count": 2,
   "id": "1b6674af",
   "metadata": {},
   "outputs": [],
   "source": [
    "img = cv2.imread('mia.jpg')"
   ]
  },
  {
   "cell_type": "code",
   "execution_count": 3,
   "id": "a74fbc2b",
   "metadata": {},
   "outputs": [],
   "source": [
    "gray = cv2.cvtColor(img,cv2.COLOR_BGR2GRAY)"
   ]
  },
  {
   "cell_type": "code",
   "execution_count": 4,
   "id": "5ff37f59",
   "metadata": {},
   "outputs": [],
   "source": [
    "bilateral = cv2.bilateralFilter(gray, 9, 75, 75 )"
   ]
  },
  {
   "cell_type": "code",
   "execution_count": 5,
   "id": "fcaac61b",
   "metadata": {},
   "outputs": [],
   "source": [
    "edges = cv2.Canny(bilateral, 50, 150)"
   ]
  },
  {
   "cell_type": "code",
   "execution_count": 6,
   "id": "749a45d9",
   "metadata": {},
   "outputs": [],
   "source": [
    "ret, mask = cv2.threshold(edges, 50, 2255, cv2.THRESH_BINARY_INV)\n"
   ]
  },
  {
   "cell_type": "code",
   "execution_count": 7,
   "id": "c0466fbc",
   "metadata": {},
   "outputs": [],
   "source": [
    "cartoon = cv2.bitwise_and(img, img, mask= mask)"
   ]
  },
  {
   "cell_type": "code",
   "execution_count": 8,
   "id": "42bd4891",
   "metadata": {},
   "outputs": [
    {
     "ename": "",
     "evalue": "",
     "output_type": "error",
     "traceback": [
      "The Kernel crashed while executing code in the the current cell or a previous cell. Please review the code in the cell(s) to identify a possible cause of the failure. Click <a href='https://aka.ms/vscodeJupyterKernelCrash'>here</a> for more info. View Jupyter <a href='command:jupyter.viewOutput'>log</a> for further details."
     ]
    }
   ],
   "source": [
    "cv2.imshow('cartoon face', cartoon)"
   ]
  },
  {
   "cell_type": "code",
   "execution_count": null,
   "id": "1882b219",
   "metadata": {},
   "outputs": [],
   "source": [
    "cv2.waitKey(0)"
   ]
  },
  {
   "cell_type": "code",
   "execution_count": null,
   "id": "a8a057fa",
   "metadata": {},
   "outputs": [],
   "source": [
    "cv2.destroyAllWindows()"
   ]
  }
 ],
 "metadata": {
  "kernelspec": {
   "display_name": "Python 3.9.2 64-bit",
   "language": "python",
   "name": "python3"
  },
  "language_info": {
   "codemirror_mode": {
    "name": "ipython",
    "version": 3
   },
   "file_extension": ".py",
   "mimetype": "text/x-python",
   "name": "python",
   "nbconvert_exporter": "python",
   "pygments_lexer": "ipython3",
   "version": "3.9.2"
  },
  "vscode": {
   "interpreter": {
    "hash": "916dbcbb3f70747c44a77c7bcd40155683ae19c65e1c03b4aa3499c5328201f1"
   }
  }
 },
 "nbformat": 4,
 "nbformat_minor": 5
}
